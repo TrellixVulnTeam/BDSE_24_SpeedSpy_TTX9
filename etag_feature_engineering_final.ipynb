{
 "cells": [
  {
   "cell_type": "code",
   "execution_count": 1,
   "id": "9ca72e9f-c20d-4e03-bd25-4ebf174f5776",
   "metadata": {},
   "outputs": [],
   "source": [
    "import pandas as pd\n",
    "import numpy as np\n",
    "import time\n",
    "from pyspark.sql import SparkSession\n",
    "import pyspark.sql.functions as fn\n",
    "import findspark\n",
    "findspark.init('/usr/local/spark')"
   ]
  },
  {
   "cell_type": "code",
   "execution_count": 2,
   "id": "d649d219-3e79-479f-ac74-ffb67008580e",
   "metadata": {},
   "outputs": [
    {
     "name": "stderr",
     "output_type": "stream",
     "text": [
      "Setting default log level to \"WARN\".\n",
      "To adjust logging level use sc.setLogLevel(newLevel). For SparkR, use setLogLevel(newLevel).\n",
      "2022-05-30 16:47:48,134 WARN util.NativeCodeLoader: Unable to load native-hadoop library for your platform... using builtin-java classes where applicable\n"
     ]
    }
   ],
   "source": [
    "spark = SparkSession\\\n",
    "        .builder\\\n",
    "        .master(\"yarn\")\\\n",
    "        .config(\"spark.driver.memory\", \"16g\")\\\n",
    "        .config(\"spark.driver.maxResultSize\", \"12g\")\\\n",
    "        .config('spark.executor.instances','16')\\\n",
    "        .config('spark.executor.memory','9G')\\\n",
    "        .appName(\"feature engineering\")\\\n",
    "        .getOrCreate()"
   ]
  },
  {
   "cell_type": "code",
   "execution_count": 3,
   "id": "f4f66da2-764d-42ad-afff-98f6d8af618b",
   "metadata": {},
   "outputs": [
    {
     "data": {
      "text/html": [
       "\n",
       "            <div>\n",
       "                <p><b>SparkSession - in-memory</b></p>\n",
       "                \n",
       "        <div>\n",
       "            <p><b>SparkContext</b></p>\n",
       "\n",
       "            <p><a href=\"http://bdse231.example.com:4040\">Spark UI</a></p>\n",
       "\n",
       "            <dl>\n",
       "              <dt>Version</dt>\n",
       "                <dd><code>v3.2.1</code></dd>\n",
       "              <dt>Master</dt>\n",
       "                <dd><code>yarn</code></dd>\n",
       "              <dt>AppName</dt>\n",
       "                <dd><code>feature engineering</code></dd>\n",
       "            </dl>\n",
       "        </div>\n",
       "        \n",
       "            </div>\n",
       "        "
      ],
      "text/plain": [
       "<pyspark.sql.session.SparkSession at 0x7f6c565eb6d0>"
      ]
     },
     "execution_count": 3,
     "metadata": {},
     "output_type": "execute_result"
    }
   ],
   "source": [
    "spark"
   ]
  },
  {
   "cell_type": "code",
   "execution_count": 4,
   "id": "04fcf35e-bf28-4a33-be60-0f729f357bca",
   "metadata": {},
   "outputs": [],
   "source": [
    "spark.sparkContext.appName\n",
    "spark.conf.set(\"spark.sql.execution.arrow.pyspark.enabled\", True)"
   ]
  },
  {
   "cell_type": "code",
   "execution_count": 5,
   "id": "5618ec90-29ae-477e-bdec-7c79e6043268",
   "metadata": {},
   "outputs": [
    {
     "name": "stderr",
     "output_type": "stream",
     "text": [
      "WARNING:root:'PYARROW_IGNORE_TIMEZONE' environment variable was not set. It is required to set this environment variable to '1' in both driver and executor sides if you use pyarrow>=2.0.0. pandas-on-Spark will set it for you but it does not work if there is a Spark context already launched.\n"
     ]
    }
   ],
   "source": [
    "import pyspark.pandas as ps\n",
    "ps.set_option(\"compute.default_index_type\", \"distributed\")"
   ]
  },
  {
   "cell_type": "code",
   "execution_count": 6,
   "id": "dd539cec-167c-4427-a89d-bd56ad560da0",
   "metadata": {},
   "outputs": [
    {
     "name": "stderr",
     "output_type": "stream",
     "text": [
      "                                                                                \r"
     ]
    },
    {
     "data": {
      "text/plain": [
       "(219775680, 6)"
      ]
     },
     "execution_count": 6,
     "metadata": {},
     "output_type": "execute_result"
    }
   ],
   "source": [
    "df = ps.read_parquet(f'hdfs://nncluster:/data/etag/m05/parquet/')\n",
    "df = df.drop([\"month\"],axis = 1)\n",
    "df.shape"
   ]
  },
  {
   "cell_type": "code",
   "execution_count": 7,
   "id": "87cdeb76-4620-4da9-b413-dcdfe81d2ba5",
   "metadata": {},
   "outputs": [
    {
     "name": "stderr",
     "output_type": "stream",
     "text": [
      "                                                                                \r"
     ]
    },
    {
     "data": {
      "text/plain": [
       "(166, 3)"
      ]
     },
     "execution_count": 7,
     "metadata": {},
     "output_type": "execute_result"
    }
   ],
   "source": [
    "df_holiday = ps.read_csv('hdfs://nncluster:/data/etag/m05/2015_2021_holiday.csv')\n",
    "df_holiday.shape"
   ]
  },
  {
   "cell_type": "code",
   "execution_count": 8,
   "id": "0fcc7a68-034c-4db0-905f-a48a324cd017",
   "metadata": {},
   "outputs": [],
   "source": [
    "# add date string\n",
    "df[\"Date_Start\"] = ps.to_datetime(df[\"Time\"],format = \"%Y/%m/%d\").dt.strftime('%Y%m%d')"
   ]
  },
  {
   "cell_type": "code",
   "execution_count": 9,
   "id": "72881f85-5d12-49c7-8e3d-c81a7e780648",
   "metadata": {},
   "outputs": [],
   "source": [
    "# remane some station\n",
    "df.loc[(df['S-Station']=='01F0509S'),'S-Station'] = '01F0511S'\n",
    "df.loc[(df['S-Station']=='01F0509N'),'S-Station'] = '01F0511N'\n",
    "df.loc[(df['E-Station']=='01F0509S'),'E-Station'] = '01F0511S'\n",
    "df.loc[(df['E-Station']=='01F0509N'),'E-Station'] = '01F0511N'"
   ]
  },
  {
   "cell_type": "code",
   "execution_count": 10,
   "id": "1eafd9c3-1252-4194-9b2a-0700499d886a",
   "metadata": {},
   "outputs": [],
   "source": [
    "# add Segment feature\n",
    "df[\"Segment\"] = df[\"S-Station\"]+\"-\"+df[\"E-Station\"]"
   ]
  },
  {
   "cell_type": "code",
   "execution_count": 11,
   "id": "96b4b6f6-3d20-4269-8a62-631e8e0af8ff",
   "metadata": {},
   "outputs": [],
   "source": [
    "# delete diff direction and road\n",
    "def filters(x):\n",
    "    if x[:2] != x[9:11]:\n",
    "        return 0\n",
    "    elif x[7] != x[-1]:\n",
    "        return 0\n",
    "    else:\n",
    "        return 1\n",
    "    \n",
    "df['Keep'] = df['Segment'].apply(lambda x : filters(x))\n",
    "df = df[df['Keep']==1]"
   ]
  },
  {
   "cell_type": "code",
   "execution_count": 12,
   "id": "fe8be0d8-eacb-4b2e-b8ba-2d9876e373b4",
   "metadata": {},
   "outputs": [
    {
     "name": "stderr",
     "output_type": "stream",
     "text": [
      "                                                                                \r"
     ]
    }
   ],
   "source": [
    "# add Direction feature\n",
    "df[\"Direction\"] = df[\"S-Station\"].apply(lambda x: 0 if x[-1] == \"S\" else 1)"
   ]
  },
  {
   "cell_type": "code",
   "execution_count": 13,
   "id": "b4565524-ea63-4afe-9cc7-a45eb5f643c5",
   "metadata": {},
   "outputs": [
    {
     "name": "stderr",
     "output_type": "stream",
     "text": [
      "                                                                                \r"
     ]
    }
   ],
   "source": [
    "# add hour feature\n",
    "df[\"Hour\"] = df[\"Time\"].apply(lambda x: int(x[-5:-3]))"
   ]
  },
  {
   "cell_type": "code",
   "execution_count": 14,
   "id": "7082ca15-d1ca-40fd-8547-6550c4a21cda",
   "metadata": {},
   "outputs": [],
   "source": [
    "# drop speed = 0 rows\n",
    "df.loc[df[\"Speed\"]==0,\"Speed\"] = np.nan\n",
    "df = df.dropna(subset=\"Speed\")"
   ]
  },
  {
   "cell_type": "code",
   "execution_count": 16,
   "id": "06f291b4-da07-4450-b3cf-332819f74a12",
   "metadata": {},
   "outputs": [],
   "source": [
    "# groupby every hour then sum count and avg speeds\n",
    "df = df.groupby(['Hour','Date_Start','Segment', 'Direction','V-Type']).agg({\"Count\":\"sum\",\"Speed\":\"mean\"}).reset_index()"
   ]
  },
  {
   "cell_type": "code",
   "execution_count": 17,
   "id": "baec1270-0380-4068-bc47-544589bfe81f",
   "metadata": {},
   "outputs": [
    {
     "name": "stderr",
     "output_type": "stream",
     "text": [
      "                                                                                \r"
     ]
    },
    {
     "data": {
      "text/html": [
       "<div>\n",
       "<style scoped>\n",
       "    .dataframe tbody tr th:only-of-type {\n",
       "        vertical-align: middle;\n",
       "    }\n",
       "\n",
       "    .dataframe tbody tr th {\n",
       "        vertical-align: top;\n",
       "    }\n",
       "\n",
       "    .dataframe thead th {\n",
       "        text-align: right;\n",
       "    }\n",
       "</style>\n",
       "<table border=\"1\" class=\"dataframe\">\n",
       "  <thead>\n",
       "    <tr style=\"text-align: right;\">\n",
       "      <th></th>\n",
       "      <th>Hour</th>\n",
       "      <th>Date_Start</th>\n",
       "      <th>Segment</th>\n",
       "      <th>Direction</th>\n",
       "      <th>V-Type</th>\n",
       "      <th>Count</th>\n",
       "      <th>Speed</th>\n",
       "    </tr>\n",
       "  </thead>\n",
       "  <tbody>\n",
       "    <tr>\n",
       "      <th>77309411328</th>\n",
       "      <td>11</td>\n",
       "      <td>20200808</td>\n",
       "      <td>03F1992N-03F1941N</td>\n",
       "      <td>1</td>\n",
       "      <td>31</td>\n",
       "      <td>1705</td>\n",
       "      <td>107.000000</td>\n",
       "    </tr>\n",
       "    <tr>\n",
       "      <th>77309411329</th>\n",
       "      <td>11</td>\n",
       "      <td>20200808</td>\n",
       "      <td>03F2535S-03F2614S</td>\n",
       "      <td>0</td>\n",
       "      <td>5</td>\n",
       "      <td>45</td>\n",
       "      <td>91.272727</td>\n",
       "    </tr>\n",
       "    <tr>\n",
       "      <th>77309411330</th>\n",
       "      <td>11</td>\n",
       "      <td>20200808</td>\n",
       "      <td>05F0528N-05F0438N</td>\n",
       "      <td>1</td>\n",
       "      <td>42</td>\n",
       "      <td>8</td>\n",
       "      <td>75.500000</td>\n",
       "    </tr>\n",
       "    <tr>\n",
       "      <th>77309411331</th>\n",
       "      <td>11</td>\n",
       "      <td>20200808</td>\n",
       "      <td>01F2425S-01F2483S</td>\n",
       "      <td>0</td>\n",
       "      <td>41</td>\n",
       "      <td>61</td>\n",
       "      <td>96.000000</td>\n",
       "    </tr>\n",
       "    <tr>\n",
       "      <th>77309411332</th>\n",
       "      <td>11</td>\n",
       "      <td>20200808</td>\n",
       "      <td>03F0116N-03F0054N</td>\n",
       "      <td>1</td>\n",
       "      <td>5</td>\n",
       "      <td>61</td>\n",
       "      <td>82.833333</td>\n",
       "    </tr>\n",
       "  </tbody>\n",
       "</table>\n",
       "</div>"
      ],
      "text/plain": [
       "             Hour Date_Start            Segment  Direction  V-Type  Count       Speed\n",
       "77309411328    11   20200808  03F1992N-03F1941N          1      31   1705  107.000000\n",
       "77309411329    11   20200808  03F2535S-03F2614S          0       5     45   91.272727\n",
       "77309411330    11   20200808  05F0528N-05F0438N          1      42      8   75.500000\n",
       "77309411331    11   20200808  01F2425S-01F2483S          0      41     61   96.000000\n",
       "77309411332    11   20200808  03F0116N-03F0054N          1       5     61   82.833333"
      ]
     },
     "execution_count": 17,
     "metadata": {},
     "output_type": "execute_result"
    }
   ],
   "source": [
    "df.head()"
   ]
  },
  {
   "cell_type": "code",
   "execution_count": 18,
   "id": "506bf425-d5ab-467a-b4c1-17c495ba2343",
   "metadata": {},
   "outputs": [],
   "source": [
    "# add year month weekday feature\n",
    "date = ps.to_datetime(df[\"Date_Start\"],format = \"%Y%m%d\")\n",
    "\n",
    "df[\"Year\"] = date.dt.strftime(\"%Y\").astype(int)\n",
    "df[\"Month\"] = date.dt.strftime(\"%m\").astype(int)\n",
    "df[\"Wday\"] = date.dt.strftime(\"%w\").astype(int)"
   ]
  },
  {
   "cell_type": "code",
   "execution_count": 19,
   "id": "d68300bb-dbc3-4714-824a-ec89f66da8c8",
   "metadata": {},
   "outputs": [
    {
     "name": "stderr",
     "output_type": "stream",
     "text": [
      "                                                                                \r"
     ]
    }
   ],
   "source": [
    "# add segment category feature\n",
    "df[\"Seg_cat\"] = df[\"Segment\"]\n",
    "df[\"Seg_cat\"] = df[\"Seg_cat\"].astype(\"category\").cat.codes.astype(int)"
   ]
  },
  {
   "cell_type": "code",
   "execution_count": 20,
   "id": "7b6fe145-0672-4d7a-afc1-91602d7cbe32",
   "metadata": {},
   "outputs": [
    {
     "data": {
      "text/html": [
       "<div>\n",
       "<style scoped>\n",
       "    .dataframe tbody tr th:only-of-type {\n",
       "        vertical-align: middle;\n",
       "    }\n",
       "\n",
       "    .dataframe tbody tr th {\n",
       "        vertical-align: top;\n",
       "    }\n",
       "\n",
       "    .dataframe thead th {\n",
       "        text-align: right;\n",
       "    }\n",
       "</style>\n",
       "<table border=\"1\" class=\"dataframe\">\n",
       "  <thead>\n",
       "    <tr style=\"text-align: right;\">\n",
       "      <th></th>\n",
       "      <th>Date_Start</th>\n",
       "      <th>Holiday</th>\n",
       "    </tr>\n",
       "  </thead>\n",
       "  <tbody>\n",
       "    <tr>\n",
       "      <th>0</th>\n",
       "      <td>20150101</td>\n",
       "      <td>2</td>\n",
       "    </tr>\n",
       "    <tr>\n",
       "      <th>1</th>\n",
       "      <td>20150102</td>\n",
       "      <td>2</td>\n",
       "    </tr>\n",
       "    <tr>\n",
       "      <th>2</th>\n",
       "      <td>20150103</td>\n",
       "      <td>2</td>\n",
       "    </tr>\n",
       "    <tr>\n",
       "      <th>3</th>\n",
       "      <td>20150104</td>\n",
       "      <td>2</td>\n",
       "    </tr>\n",
       "    <tr>\n",
       "      <th>4</th>\n",
       "      <td>20150218</td>\n",
       "      <td>2</td>\n",
       "    </tr>\n",
       "  </tbody>\n",
       "</table>\n",
       "</div>"
      ],
      "text/plain": [
       "  Date_Start  Holiday\n",
       "0   20150101        2\n",
       "1   20150102        2\n",
       "2   20150103        2\n",
       "3   20150104        2\n",
       "4   20150218        2"
      ]
     },
     "execution_count": 20,
     "metadata": {},
     "output_type": "execute_result"
    }
   ],
   "source": [
    "# holiday dataframe preprocess\n",
    "df_holiday[\"Date Start\"] = df_holiday[\"Date Start\"].astype(str)\n",
    "df_holiday = df_holiday.drop([\"_c0\"],axis=1)\n",
    "df_holiday = df_holiday.rename(columns={'Date Start':'Date_Start'})\n",
    "df_holiday.head()"
   ]
  },
  {
   "cell_type": "code",
   "execution_count": 21,
   "id": "677b4e8b-8247-4356-ad42-33c6474fcd32",
   "metadata": {},
   "outputs": [],
   "source": [
    "# merge df_holiday to df\n",
    "df = df.merge(df_holiday,how = \"left\")"
   ]
  },
  {
   "cell_type": "code",
   "execution_count": 22,
   "id": "9b4c3650-ddc6-4914-bddf-9d7e2f158563",
   "metadata": {},
   "outputs": [],
   "source": [
    "# fill holiday na\n",
    "con = (df[\"Holiday\"].isnull()) & (df[\"Wday\"].isin([0,6]))\n",
    "df.loc[con, \"Holiday\"] = 1\n",
    "\n",
    "df[\"Holiday\"] = df[\"Holiday\"].fillna(0)"
   ]
  },
  {
   "cell_type": "code",
   "execution_count": 23,
   "id": "4fb33c9f-d626-49c1-af3c-3e9a6c655f4e",
   "metadata": {},
   "outputs": [
    {
     "name": "stderr",
     "output_type": "stream",
     "text": [
      "                                                                                \r"
     ]
    },
    {
     "data": {
      "text/html": [
       "<div>\n",
       "<style scoped>\n",
       "    .dataframe tbody tr th:only-of-type {\n",
       "        vertical-align: middle;\n",
       "    }\n",
       "\n",
       "    .dataframe tbody tr th {\n",
       "        vertical-align: top;\n",
       "    }\n",
       "\n",
       "    .dataframe thead th {\n",
       "        text-align: right;\n",
       "    }\n",
       "</style>\n",
       "<table border=\"1\" class=\"dataframe\">\n",
       "  <thead>\n",
       "    <tr style=\"text-align: right;\">\n",
       "      <th></th>\n",
       "      <th>Hour</th>\n",
       "      <th>Date_Start</th>\n",
       "      <th>Segment</th>\n",
       "      <th>Direction</th>\n",
       "      <th>V-Type</th>\n",
       "      <th>Count</th>\n",
       "      <th>Speed</th>\n",
       "      <th>Year</th>\n",
       "      <th>Month</th>\n",
       "      <th>Wday</th>\n",
       "      <th>Seg_cat</th>\n",
       "      <th>Holiday</th>\n",
       "    </tr>\n",
       "  </thead>\n",
       "  <tbody>\n",
       "    <tr>\n",
       "      <th>42949952686</th>\n",
       "      <td>0</td>\n",
       "      <td>20200101</td>\n",
       "      <td>01F0005S-01F0017S</td>\n",
       "      <td>0</td>\n",
       "      <td>32</td>\n",
       "      <td>90</td>\n",
       "      <td>85.333333</td>\n",
       "      <td>2020</td>\n",
       "      <td>1</td>\n",
       "      <td>3</td>\n",
       "      <td>0</td>\n",
       "      <td>0</td>\n",
       "    </tr>\n",
       "    <tr>\n",
       "      <th>51540406592</th>\n",
       "      <td>0</td>\n",
       "      <td>20200101</td>\n",
       "      <td>01F0005S-01F0017S</td>\n",
       "      <td>0</td>\n",
       "      <td>31</td>\n",
       "      <td>404</td>\n",
       "      <td>86.916667</td>\n",
       "      <td>2020</td>\n",
       "      <td>1</td>\n",
       "      <td>3</td>\n",
       "      <td>0</td>\n",
       "      <td>0</td>\n",
       "    </tr>\n",
       "    <tr>\n",
       "      <th>60129800706</th>\n",
       "      <td>0</td>\n",
       "      <td>20200101</td>\n",
       "      <td>01F0005S-01F0017S</td>\n",
       "      <td>0</td>\n",
       "      <td>41</td>\n",
       "      <td>7</td>\n",
       "      <td>82.333333</td>\n",
       "      <td>2020</td>\n",
       "      <td>1</td>\n",
       "      <td>3</td>\n",
       "      <td>0</td>\n",
       "      <td>0</td>\n",
       "    </tr>\n",
       "    <tr>\n",
       "      <th>77309944167</th>\n",
       "      <td>0</td>\n",
       "      <td>20200101</td>\n",
       "      <td>01F0005S-01F0017S</td>\n",
       "      <td>0</td>\n",
       "      <td>42</td>\n",
       "      <td>7</td>\n",
       "      <td>73.571429</td>\n",
       "      <td>2020</td>\n",
       "      <td>1</td>\n",
       "      <td>3</td>\n",
       "      <td>0</td>\n",
       "      <td>0</td>\n",
       "    </tr>\n",
       "    <tr>\n",
       "      <th>8590460694</th>\n",
       "      <td>1</td>\n",
       "      <td>20200101</td>\n",
       "      <td>01F0005S-01F0017S</td>\n",
       "      <td>0</td>\n",
       "      <td>32</td>\n",
       "      <td>103</td>\n",
       "      <td>85.250000</td>\n",
       "      <td>2020</td>\n",
       "      <td>1</td>\n",
       "      <td>3</td>\n",
       "      <td>0</td>\n",
       "      <td>0</td>\n",
       "    </tr>\n",
       "  </tbody>\n",
       "</table>\n",
       "</div>"
      ],
      "text/plain": [
       "             Hour Date_Start            Segment  Direction  V-Type  Count      Speed  Year  Month  Wday  Seg_cat  Holiday\n",
       "42949952686     0   20200101  01F0005S-01F0017S          0      32     90  85.333333  2020      1     3        0        0\n",
       "51540406592     0   20200101  01F0005S-01F0017S          0      31    404  86.916667  2020      1     3        0        0\n",
       "60129800706     0   20200101  01F0005S-01F0017S          0      41      7  82.333333  2020      1     3        0        0\n",
       "77309944167     0   20200101  01F0005S-01F0017S          0      42      7  73.571429  2020      1     3        0        0\n",
       "8590460694      1   20200101  01F0005S-01F0017S          0      32    103  85.250000  2020      1     3        0        0"
      ]
     },
     "execution_count": 23,
     "metadata": {},
     "output_type": "execute_result"
    }
   ],
   "source": [
    "# check df\n",
    "df = df.sort_values([\"Date_Start\",\"Seg_cat\",\"Hour\"])\n",
    "df.head()"
   ]
  },
  {
   "cell_type": "code",
   "execution_count": null,
   "id": "a80246c3-4d11-4a52-b3c4-f142de0a4ee7",
   "metadata": {},
   "outputs": [],
   "source": [
    "# output to parquet\n",
    "df.to_parquet(\"hdfs://nncluster:/user/joyefan/2020_AFE\")"
   ]
  },
  {
   "cell_type": "code",
   "execution_count": null,
   "id": "5e43abf8-822d-4527-9b65-e2cfed1ff95f",
   "metadata": {},
   "outputs": [],
   "source": [
    "# save csv\n",
    "df = ps.read_parquet(\"hdfs://nncluster:/user/joyefan/2020_AFE\")\n",
    "\n",
    "pdf = df.to_pandas()\n",
    "\n",
    "pdf.to_csv('2020_AFE.csv')"
   ]
  }
 ],
 "metadata": {
  "kernelspec": {
   "display_name": "Python 3 (ipykernel)",
   "language": "python",
   "name": "python3"
  },
  "language_info": {
   "codemirror_mode": {
    "name": "ipython",
    "version": 3
   },
   "file_extension": ".py",
   "mimetype": "text/x-python",
   "name": "python",
   "nbconvert_exporter": "python",
   "pygments_lexer": "ipython3",
   "version": "3.8.10"
  }
 },
 "nbformat": 4,
 "nbformat_minor": 5
}
