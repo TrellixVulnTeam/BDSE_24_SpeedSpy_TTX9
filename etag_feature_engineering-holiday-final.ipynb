{
 "cells": [
  {
   "cell_type": "code",
   "execution_count": 1,
   "id": "5beecbd8-81f8-4865-967a-172470678c79",
   "metadata": {},
   "outputs": [],
   "source": [
    "import pandas as pd\n",
    "import numpy as np\n",
    "from pyspark.sql import SparkSession\n",
    "import pyspark.sql.functions as fn\n",
    "import findspark\n",
    "findspark.init('/usr/local/spark')"
   ]
  },
  {
   "cell_type": "code",
   "execution_count": 2,
   "id": "1b0168e1-b923-4523-ae1d-8aea5c3dc515",
   "metadata": {},
   "outputs": [
    {
     "name": "stderr",
     "output_type": "stream",
     "text": [
      "Setting default log level to \"WARN\".\n",
      "To adjust logging level use sc.setLogLevel(newLevel). For SparkR, use setLogLevel(newLevel).\n",
      "2022-05-31 09:41:48,875 WARN util.NativeCodeLoader: Unable to load native-hadoop library for your platform... using builtin-java classes where applicable\n"
     ]
    }
   ],
   "source": [
    "spark = SparkSession\\\n",
    "        .builder\\\n",
    "        .master(\"yarn\")\\\n",
    "        .config(\"spark.driver.memory\", \"16g\")\\\n",
    "        .config(\"spark.driver.maxResultSize\", \"12g\")\\\n",
    "        .config('spark.executor.instances','16')\\\n",
    "        .config('spark.executor.memory','9G')\\\n",
    "        .appName(\"feature engineering\")\\\n",
    "        .getOrCreate()"
   ]
  },
  {
   "cell_type": "code",
   "execution_count": 3,
   "id": "b364854e-e43c-4ae4-8fbd-3c2cdb370565",
   "metadata": {},
   "outputs": [
    {
     "data": {
      "text/html": [
       "\n",
       "            <div>\n",
       "                <p><b>SparkSession - in-memory</b></p>\n",
       "                \n",
       "        <div>\n",
       "            <p><b>SparkContext</b></p>\n",
       "\n",
       "            <p><a href=\"http://bdse231.example.com:4040\">Spark UI</a></p>\n",
       "\n",
       "            <dl>\n",
       "              <dt>Version</dt>\n",
       "                <dd><code>v3.2.1</code></dd>\n",
       "              <dt>Master</dt>\n",
       "                <dd><code>yarn</code></dd>\n",
       "              <dt>AppName</dt>\n",
       "                <dd><code>feature engineering</code></dd>\n",
       "            </dl>\n",
       "        </div>\n",
       "        \n",
       "            </div>\n",
       "        "
      ],
      "text/plain": [
       "<pyspark.sql.session.SparkSession at 0x7fe34d34a520>"
      ]
     },
     "execution_count": 3,
     "metadata": {},
     "output_type": "execute_result"
    }
   ],
   "source": [
    "spark"
   ]
  },
  {
   "cell_type": "code",
   "execution_count": 4,
   "id": "5df52760-258b-42a4-828f-aa74f6bcacc2",
   "metadata": {},
   "outputs": [],
   "source": [
    "spark.sparkContext.appName\n",
    "spark.conf.set(\"spark.sql.execution.arrow.pyspark.enabled\", True)"
   ]
  },
  {
   "cell_type": "code",
   "execution_count": 5,
   "id": "d9c656b8-3e99-4471-ba75-bbc4305ec6eb",
   "metadata": {},
   "outputs": [
    {
     "name": "stderr",
     "output_type": "stream",
     "text": [
      "WARNING:root:'PYARROW_IGNORE_TIMEZONE' environment variable was not set. It is required to set this environment variable to '1' in both driver and executor sides if you use pyarrow>=2.0.0. pandas-on-Spark will set it for you but it does not work if there is a Spark context already launched.\n"
     ]
    }
   ],
   "source": [
    "import pyspark.pandas as ps\n",
    "ps.set_option(\"compute.default_index_type\", \"distributed\")"
   ]
  },
  {
   "cell_type": "code",
   "execution_count": 6,
   "id": "0ab067ac-efad-46d8-8075-f349473eacca",
   "metadata": {},
   "outputs": [
    {
     "name": "stderr",
     "output_type": "stream",
     "text": [
      "                                                                                \r"
     ]
    }
   ],
   "source": [
    "# read parquet\n",
    "df = ps.read_parquet(f'hdfs://nncluster:/data/etag/m05/m05_holidays.parquet/')"
   ]
  },
  {
   "cell_type": "code",
   "execution_count": 7,
   "id": "0735d144-36c4-4c90-acb1-0b437d0b5f79",
   "metadata": {},
   "outputs": [
    {
     "name": "stderr",
     "output_type": "stream",
     "text": [
      "                                                                                \r"
     ]
    }
   ],
   "source": [
    "# read holiday csv\n",
    "df_h = ps.read_csv(f'hdfs://nncluster:/data/etag/m05/2015_2021_holidays_order.csv')\n",
    "# df_h drop useless columns\n",
    "df_h = df_h.drop(['_c0','Year'],axis=1)\n",
    "# pick specific holiday and preprocess\n",
    "df_h = df_h[df_h['Holiday'].isin(['Lunar New Year','dragon','moon','New Year','national'])]\n",
    "df_h = df_h.rename(columns = {\"Date Start\":\"Date_Start\"})"
   ]
  },
  {
   "cell_type": "code",
   "execution_count": 8,
   "id": "4b5fbea5-fc1c-4ced-98d2-95c593377d6b",
   "metadata": {},
   "outputs": [],
   "source": [
    "# add date string\n",
    "df[\"Date_Start\"] = ps.to_datetime(df[\"Time\"],format = \"%Y/%m/%d\").dt.strftime('%Y%m%d')"
   ]
  },
  {
   "cell_type": "code",
   "execution_count": 9,
   "id": "cfa083f6-be15-4319-af2f-44505398bd56",
   "metadata": {},
   "outputs": [
    {
     "name": "stderr",
     "output_type": "stream",
     "text": [
      "                                                                                \r"
     ]
    },
    {
     "data": {
      "text/html": [
       "<div>\n",
       "<style scoped>\n",
       "    .dataframe tbody tr th:only-of-type {\n",
       "        vertical-align: middle;\n",
       "    }\n",
       "\n",
       "    .dataframe tbody tr th {\n",
       "        vertical-align: top;\n",
       "    }\n",
       "\n",
       "    .dataframe thead th {\n",
       "        text-align: right;\n",
       "    }\n",
       "</style>\n",
       "<table border=\"1\" class=\"dataframe\">\n",
       "  <thead>\n",
       "    <tr style=\"text-align: right;\">\n",
       "      <th></th>\n",
       "      <th>Time</th>\n",
       "      <th>S-Station</th>\n",
       "      <th>E-Station</th>\n",
       "      <th>V-Type</th>\n",
       "      <th>Speed</th>\n",
       "      <th>Count</th>\n",
       "      <th>year</th>\n",
       "      <th>Date_Start</th>\n",
       "      <th>Holiday</th>\n",
       "      <th>Order</th>\n",
       "    </tr>\n",
       "  </thead>\n",
       "  <tbody>\n",
       "    <tr>\n",
       "      <th>68719476736</th>\n",
       "      <td>2019/02/07 02:35</td>\n",
       "      <td>03F2614N</td>\n",
       "      <td>03F2535N</td>\n",
       "      <td>42</td>\n",
       "      <td>0</td>\n",
       "      <td>0</td>\n",
       "      <td>2019</td>\n",
       "      <td>20190207</td>\n",
       "      <td>Lunar New Year</td>\n",
       "      <td>5</td>\n",
       "    </tr>\n",
       "    <tr>\n",
       "      <th>68719476737</th>\n",
       "      <td>2019/02/07 02:35</td>\n",
       "      <td>03F2614N</td>\n",
       "      <td>03F2535N</td>\n",
       "      <td>5</td>\n",
       "      <td>0</td>\n",
       "      <td>0</td>\n",
       "      <td>2019</td>\n",
       "      <td>20190207</td>\n",
       "      <td>Lunar New Year</td>\n",
       "      <td>5</td>\n",
       "    </tr>\n",
       "    <tr>\n",
       "      <th>68719476738</th>\n",
       "      <td>2019/02/07 02:35</td>\n",
       "      <td>03F2447S</td>\n",
       "      <td>03F2535S</td>\n",
       "      <td>31</td>\n",
       "      <td>111</td>\n",
       "      <td>19</td>\n",
       "      <td>2019</td>\n",
       "      <td>20190207</td>\n",
       "      <td>Lunar New Year</td>\n",
       "      <td>5</td>\n",
       "    </tr>\n",
       "    <tr>\n",
       "      <th>68719476739</th>\n",
       "      <td>2019/02/07 02:35</td>\n",
       "      <td>03F2447S</td>\n",
       "      <td>03F2535S</td>\n",
       "      <td>32</td>\n",
       "      <td>113</td>\n",
       "      <td>9</td>\n",
       "      <td>2019</td>\n",
       "      <td>20190207</td>\n",
       "      <td>Lunar New Year</td>\n",
       "      <td>5</td>\n",
       "    </tr>\n",
       "    <tr>\n",
       "      <th>68719476740</th>\n",
       "      <td>2019/02/07 02:35</td>\n",
       "      <td>03F2447S</td>\n",
       "      <td>03F2535S</td>\n",
       "      <td>41</td>\n",
       "      <td>0</td>\n",
       "      <td>0</td>\n",
       "      <td>2019</td>\n",
       "      <td>20190207</td>\n",
       "      <td>Lunar New Year</td>\n",
       "      <td>5</td>\n",
       "    </tr>\n",
       "  </tbody>\n",
       "</table>\n",
       "</div>"
      ],
      "text/plain": [
       "                         Time S-Station E-Station  V-Type  Speed  Count  year Date_Start         Holiday  Order\n",
       "68719476736  2019/02/07 02:35  03F2614N  03F2535N      42      0      0  2019   20190207  Lunar New Year      5\n",
       "68719476737  2019/02/07 02:35  03F2614N  03F2535N       5      0      0  2019   20190207  Lunar New Year      5\n",
       "68719476738  2019/02/07 02:35  03F2447S  03F2535S      31    111     19  2019   20190207  Lunar New Year      5\n",
       "68719476739  2019/02/07 02:35  03F2447S  03F2535S      32    113      9  2019   20190207  Lunar New Year      5\n",
       "68719476740  2019/02/07 02:35  03F2447S  03F2535S      41      0      0  2019   20190207  Lunar New Year      5"
      ]
     },
     "execution_count": 9,
     "metadata": {},
     "output_type": "execute_result"
    }
   ],
   "source": [
    "# merge order df to main df\n",
    "df = df.merge(df_h,on='Date_Start')\n",
    "df.head()"
   ]
  },
  {
   "cell_type": "code",
   "execution_count": 10,
   "id": "370ee54f-14e5-4edf-b029-8fb9283f2e00",
   "metadata": {},
   "outputs": [
    {
     "name": "stderr",
     "output_type": "stream",
     "text": [
      "                                                                                \r"
     ]
    }
   ],
   "source": [
    "# save a parquet(just in case)\n",
    "df.to_parquet(\"hdfs://nncluster:/data/etag/m05/m05_holidays_step1.parquet\", partition_cols=\"year\")\n",
    "df = ps.read_parquet(f'hdfs://nncluster:/data/etag/m05/m05_holidays_step1.parquet/')"
   ]
  },
  {
   "cell_type": "code",
   "execution_count": 11,
   "id": "fa3fd607-1260-4322-860e-5acce76a45f5",
   "metadata": {},
   "outputs": [
    {
     "name": "stderr",
     "output_type": "stream",
     "text": [
      "                                                                                \r"
     ]
    }
   ],
   "source": [
    "# df2-6 preprocess\n",
    "df_d = ps.read_csv(f'hdfs://nncluster:/data/etag/m05/m05_DaysPriorToDragon.csv')\n",
    "df_lny = ps.read_csv(f'hdfs://nncluster:/data/etag/m05/m05_DaysPriorToLunar.csv')\n",
    "df_m = ps.read_csv(f'hdfs://nncluster:/data/etag/m05/m05_DaysPriorToMoon.csv')\n",
    "df_n = ps.read_csv(f'hdfs://nncluster:/data/etag/m05/m05_DaysPriorToNation.csv')\n",
    "df_ny = ps.read_csv(f'hdfs://nncluster:/data/etag/m05/m05_DaysPriorToNewYear.csv')\n",
    "\n",
    "df_d[\"Date_Start\"] = ps.to_datetime(df_d[\"Time\"],format = \"%Y/%m/%d\").dt.strftime('%Y%m%d')\n",
    "df_d['Holiday'] = 'dragon'\n",
    "df_d['Order'] = -1\n",
    "df_d['year'] = df_d['Date_Start'].apply(lambda x:str(x)[:4])\n",
    "\n",
    "df_lny[\"Date_Start\"] = ps.to_datetime(df_lny[\"Time\"],format = \"%Y/%m/%d\").dt.strftime('%Y%m%d')\n",
    "df_lny['Holiday'] = 'Lunar New Year'\n",
    "df_lny['Order'] = -1\n",
    "df_lny['year'] = df_lny['Date_Start'].apply(lambda x:str(x)[:4])\n",
    "\n",
    "df_m[\"Date_Start\"] = ps.to_datetime(df_m[\"Time\"],format = \"%Y/%m/%d\").dt.strftime('%Y%m%d')\n",
    "df_m['Holiday'] = 'moon'\n",
    "df_m['Order'] = -1\n",
    "df_m['year'] = df_m['Date_Start'].apply(lambda x:str(x)[:4])\n",
    "\n",
    "df_n[\"Date_Start\"] = ps.to_datetime(df_n[\"Time\"],format = \"%Y/%m/%d\").dt.strftime('%Y%m%d')\n",
    "df_n['Holiday'] = 'national'\n",
    "df_n['Order'] = -1\n",
    "df_n['year'] = df_n['Date_Start'].apply(lambda x:str(x)[:4])\n",
    "\n",
    "df_ny[\"Date_Start\"] = ps.to_datetime(df_ny[\"Time\"],format = \"%Y/%m/%d\").dt.strftime('%Y%m%d')\n",
    "df_ny['Holiday'] = 'New Year'\n",
    "df_ny['Order'] = -1\n",
    "df_ny['year'] = df_ny['Date_Start'].apply(lambda x:str(x)[:4])"
   ]
  },
  {
   "cell_type": "code",
   "execution_count": 14,
   "id": "77142195-e648-4fa4-b4de-b6fa7ed55938",
   "metadata": {},
   "outputs": [
    {
     "name": "stderr",
     "output_type": "stream",
     "text": [
      "                                                                                \r"
     ]
    },
    {
     "data": {
      "text/html": [
       "<div>\n",
       "<style scoped>\n",
       "    .dataframe tbody tr th:only-of-type {\n",
       "        vertical-align: middle;\n",
       "    }\n",
       "\n",
       "    .dataframe tbody tr th {\n",
       "        vertical-align: top;\n",
       "    }\n",
       "\n",
       "    .dataframe thead th {\n",
       "        text-align: right;\n",
       "    }\n",
       "</style>\n",
       "<table border=\"1\" class=\"dataframe\">\n",
       "  <thead>\n",
       "    <tr style=\"text-align: right;\">\n",
       "      <th></th>\n",
       "      <th>Time</th>\n",
       "      <th>S-Station</th>\n",
       "      <th>E-Station</th>\n",
       "      <th>V-Type</th>\n",
       "      <th>Speed</th>\n",
       "      <th>Count</th>\n",
       "      <th>Date_Start</th>\n",
       "      <th>Holiday</th>\n",
       "      <th>Order</th>\n",
       "      <th>year</th>\n",
       "    </tr>\n",
       "  </thead>\n",
       "  <tbody>\n",
       "    <tr>\n",
       "      <th>8589934592</th>\n",
       "      <td>2019/02/07 02:35</td>\n",
       "      <td>03F2614N</td>\n",
       "      <td>03F2535N</td>\n",
       "      <td>42</td>\n",
       "      <td>0</td>\n",
       "      <td>0</td>\n",
       "      <td>20190207</td>\n",
       "      <td>Lunar New Year</td>\n",
       "      <td>5</td>\n",
       "      <td>2019</td>\n",
       "    </tr>\n",
       "    <tr>\n",
       "      <th>8589934593</th>\n",
       "      <td>2019/02/07 02:35</td>\n",
       "      <td>03F2614N</td>\n",
       "      <td>03F2535N</td>\n",
       "      <td>5</td>\n",
       "      <td>0</td>\n",
       "      <td>0</td>\n",
       "      <td>20190207</td>\n",
       "      <td>Lunar New Year</td>\n",
       "      <td>5</td>\n",
       "      <td>2019</td>\n",
       "    </tr>\n",
       "    <tr>\n",
       "      <th>8589934594</th>\n",
       "      <td>2019/02/07 02:35</td>\n",
       "      <td>03F2447S</td>\n",
       "      <td>03F2535S</td>\n",
       "      <td>31</td>\n",
       "      <td>111</td>\n",
       "      <td>19</td>\n",
       "      <td>20190207</td>\n",
       "      <td>Lunar New Year</td>\n",
       "      <td>5</td>\n",
       "      <td>2019</td>\n",
       "    </tr>\n",
       "    <tr>\n",
       "      <th>8589934595</th>\n",
       "      <td>2019/02/07 02:35</td>\n",
       "      <td>03F2447S</td>\n",
       "      <td>03F2535S</td>\n",
       "      <td>32</td>\n",
       "      <td>113</td>\n",
       "      <td>9</td>\n",
       "      <td>20190207</td>\n",
       "      <td>Lunar New Year</td>\n",
       "      <td>5</td>\n",
       "      <td>2019</td>\n",
       "    </tr>\n",
       "    <tr>\n",
       "      <th>8589934596</th>\n",
       "      <td>2019/02/07 02:35</td>\n",
       "      <td>03F2447S</td>\n",
       "      <td>03F2535S</td>\n",
       "      <td>41</td>\n",
       "      <td>0</td>\n",
       "      <td>0</td>\n",
       "      <td>20190207</td>\n",
       "      <td>Lunar New Year</td>\n",
       "      <td>5</td>\n",
       "      <td>2019</td>\n",
       "    </tr>\n",
       "  </tbody>\n",
       "</table>\n",
       "</div>"
      ],
      "text/plain": [
       "                        Time S-Station E-Station  V-Type  Speed  Count Date_Start         Holiday  Order  year\n",
       "8589934592  2019/02/07 02:35  03F2614N  03F2535N      42      0      0   20190207  Lunar New Year      5  2019\n",
       "8589934593  2019/02/07 02:35  03F2614N  03F2535N       5      0      0   20190207  Lunar New Year      5  2019\n",
       "8589934594  2019/02/07 02:35  03F2447S  03F2535S      31    111     19   20190207  Lunar New Year      5  2019\n",
       "8589934595  2019/02/07 02:35  03F2447S  03F2535S      32    113      9   20190207  Lunar New Year      5  2019\n",
       "8589934596  2019/02/07 02:35  03F2447S  03F2535S      41      0      0   20190207  Lunar New Year      5  2019"
      ]
     },
     "execution_count": 14,
     "metadata": {},
     "output_type": "execute_result"
    }
   ],
   "source": [
    "# concat dataframes\n",
    "for i in [df_d,df_lny,df_m,df_n,df_ny]:\n",
    "    df = ps.concat([df,i])\n",
    "df.head()"
   ]
  },
  {
   "cell_type": "code",
   "execution_count": 15,
   "id": "ac00e283-5f63-4575-a73b-7cfb2f1c94bd",
   "metadata": {},
   "outputs": [
    {
     "name": "stderr",
     "output_type": "stream",
     "text": [
      "                                                                                \r"
     ]
    }
   ],
   "source": [
    "# save a parquet(just in case)\n",
    "df.to_parquet(\"hdfs://nncluster:/data/etag/m05/m05_holidays_step2.parquet\", partition_cols=\"year\")\n",
    "df = ps.read_parquet(f'hdfs://nncluster:/data/etag/m05/m05_holidays_step2.parquet/')"
   ]
  },
  {
   "cell_type": "code",
   "execution_count": 16,
   "id": "4a9ff977-8a1f-4db7-807b-e63eff3f6047",
   "metadata": {},
   "outputs": [],
   "source": [
    "# remane some stations\n",
    "df.loc[(df['S-Station']=='01F0509S'),'S-Station'] = '01F0511S'\n",
    "df.loc[(df['S-Station']=='01F0509N'),'S-Station'] = '01F0511N'\n",
    "df.loc[(df['E-Station']=='01F0509S'),'E-Station'] = '01F0511S'\n",
    "df.loc[(df['E-Station']=='01F0509N'),'E-Station'] = '01F0511N'"
   ]
  },
  {
   "cell_type": "code",
   "execution_count": 17,
   "id": "fc51172a-3c37-4e17-bb9f-3c6470e74c88",
   "metadata": {},
   "outputs": [],
   "source": [
    "# add Segment feature\n",
    "df[\"Segment\"] = df[\"S-Station\"]+\"-\"+df[\"E-Station\"]"
   ]
  },
  {
   "cell_type": "code",
   "execution_count": 18,
   "id": "3de62438-7d8c-4ec7-88f0-b56b8f29953a",
   "metadata": {},
   "outputs": [],
   "source": [
    "# delete diff direction and road\n",
    "def filters(x):\n",
    "    if x[:2] != x[9:11]:\n",
    "        return 0\n",
    "    elif x[7] != x[-1]:\n",
    "        return 0\n",
    "    else:\n",
    "        return 1\n",
    "\n",
    "# keep wanted rows\n",
    "df['Keep'] = df[\"Segment\"].apply(lambda x : filters(x))\n",
    "df = df[df['Keep']==1]"
   ]
  },
  {
   "cell_type": "code",
   "execution_count": 19,
   "id": "2cfce85c-7de2-400b-9e2d-0876d9d9db33",
   "metadata": {},
   "outputs": [
    {
     "name": "stderr",
     "output_type": "stream",
     "text": [
      "                                                                                \r"
     ]
    }
   ],
   "source": [
    "# add Direction feature\n",
    "df[\"Direction\"] = df[\"S-Station\"].apply(lambda x: 0 if x[-1] == \"S\" else 1)"
   ]
  },
  {
   "cell_type": "code",
   "execution_count": 20,
   "id": "cc6846cd-482c-4c52-a382-6a01530ccb6d",
   "metadata": {},
   "outputs": [
    {
     "name": "stderr",
     "output_type": "stream",
     "text": [
      "                                                                                \r"
     ]
    }
   ],
   "source": [
    "# add hour feature\n",
    "df[\"Hour\"] = df[\"Time\"].apply(lambda x: int(x[-5:-3]))"
   ]
  },
  {
   "cell_type": "code",
   "execution_count": 21,
   "id": "49d9e61c-4f28-40e5-b1f0-ced38af224d3",
   "metadata": {},
   "outputs": [],
   "source": [
    "# set speed = 0 to na and drop it\n",
    "df.loc[df[\"Speed\"]==0,\"Speed\"] = np.nan\n",
    "df = df.dropna(subset=\"Speed\")"
   ]
  },
  {
   "cell_type": "code",
   "execution_count": 22,
   "id": "ad033829-bb61-4de7-a812-2fc9f22edb2b",
   "metadata": {},
   "outputs": [],
   "source": [
    "# groupby every hour data then sum count and avg speeds\n",
    "df = df.groupby(['Hour','Date_Start','Segment', 'Direction','V-Type','Holiday','Order','year']).agg({\"Count\":\"sum\",\"Speed\":\"mean\"}).reset_index()"
   ]
  },
  {
   "cell_type": "code",
   "execution_count": 23,
   "id": "537afc41-d7ce-4724-91d4-7320e4cf75ed",
   "metadata": {},
   "outputs": [
    {
     "name": "stderr",
     "output_type": "stream",
     "text": [
      "                                                                                \r"
     ]
    }
   ],
   "source": [
    "# save a parquet(just in case)\n",
    "df.to_parquet(\"hdfs://nncluster:/data/etag/m05/m05_holidays_step3.parquet\", partition_cols=\"year\")\n",
    "df = ps.read_parquet(f'hdfs://nncluster:/data/etag/m05/m05_holidays_step3.parquet/')"
   ]
  },
  {
   "cell_type": "code",
   "execution_count": 24,
   "id": "3867f10c-2764-4e06-995c-2fa4c8b125c6",
   "metadata": {},
   "outputs": [],
   "source": [
    "# add month weekday feature\n",
    "date = ps.to_datetime(df[\"Date_Start\"],format = \"%Y%m%d\")\n",
    "\n",
    "df[\"Month\"] = date.dt.strftime(\"%m\").astype(int)\n",
    "df[\"Wday\"] = date.dt.strftime(\"%w\").astype(int)"
   ]
  },
  {
   "cell_type": "code",
   "execution_count": 25,
   "id": "7ed03baa-f3ab-4a22-9a8a-2932664cd702",
   "metadata": {},
   "outputs": [],
   "source": [
    "# add segment category feature\n",
    "df[\"Seg_cat\"] = df[\"Segment\"]\n",
    "df[\"Seg_cat\"] = df[\"Seg_cat\"].astype(\"category\").cat.codes.astype(int)"
   ]
  },
  {
   "cell_type": "code",
   "execution_count": 26,
   "id": "fa55145b-2a4b-4c65-ae86-180de274526b",
   "metadata": {},
   "outputs": [],
   "source": [
    "# sort data by date & segment & hour\n",
    "df = df.sort_values([\"Date_Start\",\"Seg_cat\",\"Hour\"])"
   ]
  },
  {
   "cell_type": "code",
   "execution_count": 27,
   "id": "e448b3fa-09b5-418f-a02f-eaf347f095c9",
   "metadata": {},
   "outputs": [
    {
     "name": "stderr",
     "output_type": "stream",
     "text": [
      "                                                                                \r"
     ]
    }
   ],
   "source": [
    "# save a parquet\n",
    "df.to_parquet(\"hdfs://nncluster:/data/etag/m05/m05_holidays_final.parquet\", partition_cols=\"year\")\n",
    "df = ps.read_parquet(f'hdfs://nncluster:/data/etag/m05/m05_holidays_final.parquet/')"
   ]
  },
  {
   "cell_type": "code",
   "execution_count": 28,
   "id": "be865759-01c1-4f0e-8cc8-8e7bb8014e0b",
   "metadata": {},
   "outputs": [
    {
     "data": {
      "text/html": [
       "<div>\n",
       "<style scoped>\n",
       "    .dataframe tbody tr th:only-of-type {\n",
       "        vertical-align: middle;\n",
       "    }\n",
       "\n",
       "    .dataframe tbody tr th {\n",
       "        vertical-align: top;\n",
       "    }\n",
       "\n",
       "    .dataframe thead th {\n",
       "        text-align: right;\n",
       "    }\n",
       "</style>\n",
       "<table border=\"1\" class=\"dataframe\">\n",
       "  <thead>\n",
       "    <tr style=\"text-align: right;\">\n",
       "      <th></th>\n",
       "      <th>Hour</th>\n",
       "      <th>Date_Start</th>\n",
       "      <th>Segment</th>\n",
       "      <th>Direction</th>\n",
       "      <th>V-Type</th>\n",
       "      <th>Holiday</th>\n",
       "      <th>Order</th>\n",
       "      <th>Count</th>\n",
       "      <th>Speed</th>\n",
       "      <th>Month</th>\n",
       "      <th>Wday</th>\n",
       "      <th>Seg_cat</th>\n",
       "      <th>year</th>\n",
       "    </tr>\n",
       "  </thead>\n",
       "  <tbody>\n",
       "    <tr>\n",
       "      <th>25769803776</th>\n",
       "      <td>0</td>\n",
       "      <td>20160101</td>\n",
       "      <td>01F0005S-01F0017S</td>\n",
       "      <td>0</td>\n",
       "      <td>32</td>\n",
       "      <td>New Year</td>\n",
       "      <td>0</td>\n",
       "      <td>88</td>\n",
       "      <td>82.000000</td>\n",
       "      <td>1</td>\n",
       "      <td>5</td>\n",
       "      <td>0</td>\n",
       "      <td>2016</td>\n",
       "    </tr>\n",
       "    <tr>\n",
       "      <th>25769803777</th>\n",
       "      <td>0</td>\n",
       "      <td>20160101</td>\n",
       "      <td>01F0005S-01F0017S</td>\n",
       "      <td>0</td>\n",
       "      <td>41</td>\n",
       "      <td>New Year</td>\n",
       "      <td>0</td>\n",
       "      <td>10</td>\n",
       "      <td>82.428571</td>\n",
       "      <td>1</td>\n",
       "      <td>5</td>\n",
       "      <td>0</td>\n",
       "      <td>2016</td>\n",
       "    </tr>\n",
       "    <tr>\n",
       "      <th>25769803778</th>\n",
       "      <td>0</td>\n",
       "      <td>20160101</td>\n",
       "      <td>01F0005S-01F0017S</td>\n",
       "      <td>0</td>\n",
       "      <td>42</td>\n",
       "      <td>New Year</td>\n",
       "      <td>0</td>\n",
       "      <td>7</td>\n",
       "      <td>85.833333</td>\n",
       "      <td>1</td>\n",
       "      <td>5</td>\n",
       "      <td>0</td>\n",
       "      <td>2016</td>\n",
       "    </tr>\n",
       "    <tr>\n",
       "      <th>25769803779</th>\n",
       "      <td>0</td>\n",
       "      <td>20160101</td>\n",
       "      <td>01F0005S-01F0017S</td>\n",
       "      <td>0</td>\n",
       "      <td>31</td>\n",
       "      <td>New Year</td>\n",
       "      <td>0</td>\n",
       "      <td>426</td>\n",
       "      <td>85.750000</td>\n",
       "      <td>1</td>\n",
       "      <td>5</td>\n",
       "      <td>0</td>\n",
       "      <td>2016</td>\n",
       "    </tr>\n",
       "    <tr>\n",
       "      <th>25769803780</th>\n",
       "      <td>1</td>\n",
       "      <td>20160101</td>\n",
       "      <td>01F0005S-01F0017S</td>\n",
       "      <td>0</td>\n",
       "      <td>41</td>\n",
       "      <td>New Year</td>\n",
       "      <td>0</td>\n",
       "      <td>1</td>\n",
       "      <td>72.000000</td>\n",
       "      <td>1</td>\n",
       "      <td>5</td>\n",
       "      <td>0</td>\n",
       "      <td>2016</td>\n",
       "    </tr>\n",
       "  </tbody>\n",
       "</table>\n",
       "</div>"
      ],
      "text/plain": [
       "             Hour Date_Start            Segment  Direction  V-Type   Holiday  Order  Count      Speed  Month  Wday  Seg_cat  year\n",
       "25769803776     0   20160101  01F0005S-01F0017S          0      32  New Year      0     88  82.000000      1     5        0  2016\n",
       "25769803777     0   20160101  01F0005S-01F0017S          0      41  New Year      0     10  82.428571      1     5        0  2016\n",
       "25769803778     0   20160101  01F0005S-01F0017S          0      42  New Year      0      7  85.833333      1     5        0  2016\n",
       "25769803779     0   20160101  01F0005S-01F0017S          0      31  New Year      0    426  85.750000      1     5        0  2016\n",
       "25769803780     1   20160101  01F0005S-01F0017S          0      41  New Year      0      1  72.000000      1     5        0  2016"
      ]
     },
     "execution_count": 28,
     "metadata": {},
     "output_type": "execute_result"
    }
   ],
   "source": [
    "df.head()"
   ]
  },
  {
   "cell_type": "code",
   "execution_count": null,
   "id": "f17d1b75-3231-4630-a95a-af4b6a1447f6",
   "metadata": {},
   "outputs": [],
   "source": [
    "# seperate each holiday to parquet\n",
    "df_lny = df[df['Holiday']=='Lunar New Year']\n",
    "df_lny.to_parquet(\"hdfs://nncluster:/data/etag/m05/holidays_lunar_new_year_0521_AFE.parquet\", partition_cols=\"year\")\n",
    "\n",
    "df_d = df[df['Holiday']=='dragon']\n",
    "df_d.to_parquet(\"hdfs://nncluster:/data/etag/m05/holidays_dragon_0521_AFE.parquet\", partition_cols=\"year\")\n",
    "\n",
    "df_m = df[df['Holiday']=='moon']\n",
    "df_m.to_parquet(\"hdfs://nncluster:/data/etag/m05/holidays_moon_0521_AFE.parquet\", partition_cols=\"year\")\n",
    "\n",
    "df_na = df[df['Holiday']=='national']\n",
    "df_na.to_parquet(\"hdfs://nncluster:/data/etag/m05/holidays_national_0521_AFE.parquet\", partition_cols=\"year\")\n",
    "\n",
    "df_ny = df[df['Holiday']=='New Year']\n",
    "df_ny.to_parquet(\"hdfs://nncluster:/data/etag/m05/holidays_new_year_0521_AFE.parquet\", partition_cols=\"year\")"
   ]
  },
  {
   "cell_type": "code",
   "execution_count": null,
   "id": "c2ac0aa3-a9e2-4675-a073-142757c93965",
   "metadata": {},
   "outputs": [],
   "source": [
    "df_lny = ps.read_parquet(\"hdfs://nncluster:/data/etag/m05/holidays_lunar_new_year_0521_AFE.parquet\")\n",
    "pdf_lny = df_lny.to_pandas()\n",
    "pdf_lny.to_csv('holidays_lunar_new_year_0521_AFE.csv')\n",
    "\n",
    "\n",
    "df_d = ps.read_parquet(\"hdfs://nncluster:/data/etag/m05/holidays_dragon_0521_AFE.parquet\")\n",
    "pdf_d = df_d.to_pandas()\n",
    "pdf_d.to_csv('holidays_dragon_0521_AFE.csv')\n",
    "\n",
    "df_m = ps.read_parquet(\"hdfs://nncluster:/data/etag/m05/holidays_moon_0521_AFE.parquet\")\n",
    "pdf_m = df_m.to_pandas()\n",
    "pdf_m.to_csv('holidays_moon_0521_AFE.csv')\n",
    "\n",
    "df_na = ps.read_parquet(\"hdfs://nncluster:/data/etag/m05/holidays_national_0521_AFE.parquet\")\n",
    "pdf_na = df_na.to_pandas()\n",
    "pdf_na.to_csv('holidays_national_0521_AFE.csv')\n",
    "\n",
    "df_ny = ps.read_parquet(\"hdfs://nncluster:/data/etag/m05/holidays_new_year_0521_AFE.parquet\")\n",
    "pdf_ny = df_ny.to_pandas()\n",
    "pdf_ny.to_csv('holidays_new_year_0521_AFE.csv')"
   ]
  }
 ],
 "metadata": {
  "kernelspec": {
   "display_name": "Python 3 (ipykernel)",
   "language": "python",
   "name": "python3"
  },
  "language_info": {
   "codemirror_mode": {
    "name": "ipython",
    "version": 3
   },
   "file_extension": ".py",
   "mimetype": "text/x-python",
   "name": "python",
   "nbconvert_exporter": "python",
   "pygments_lexer": "ipython3",
   "version": "3.8.10"
  }
 },
 "nbformat": 4,
 "nbformat_minor": 5
}
